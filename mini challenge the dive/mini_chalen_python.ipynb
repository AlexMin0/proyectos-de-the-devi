{
 "cells": [
  {
   "cell_type": "markdown",
   "id": "1def8343",
   "metadata": {},
   "source": [
    "Dia 1 - Inversión de una Cadena\n",
    "Escribe un programa que invierta una cadena de caracteres dada por el\n",
    "usuario.\n"
   ]
  },
  {
   "cell_type": "code",
   "execution_count": 40,
   "id": "db5c8bf2",
   "metadata": {},
   "outputs": [
    {
     "name": "stdout",
     "output_type": "stream",
     "text": [
      "palabra invertida ana\n"
     ]
    }
   ],
   "source": [
    "# slicing es cortar partes de un texto o lista \n",
    "# preguntar que va agregar en cadena\n",
    "texto = input(\"escribi algo\")\n",
    "\n",
    "# invertir la cadena usando slicing\n",
    "invertida = texto[::-1]\n",
    "\n",
    "# mostrar el resultado\n",
    "print(\"palabra invertida\", invertida)\n"
   ]
  },
  {
   "cell_type": "markdown",
   "id": "93fcea7f",
   "metadata": {},
   "source": [
    "Dia 2 - Tabla de Multiplicar\n",
    "Escribe un programa que muestre la tabla de multiplicar de un número\n",
    "dado por el usuario.\n"
   ]
  },
  {
   "cell_type": "code",
   "execution_count": 41,
   "id": "e8c54d85",
   "metadata": {},
   "outputs": [
    {
     "name": "stdout",
     "output_type": "stream",
     "text": [
      "tabla del 5\n",
      "5 x 0 = 0\n",
      "5 x 1 = 5\n",
      "5 x 2 = 10\n",
      "5 x 3 = 15\n",
      "5 x 4 = 20\n",
      "5 x 5 = 25\n",
      "5 x 6 = 30\n",
      "5 x 7 = 35\n",
      "5 x 8 = 40\n",
      "5 x 9 = 45\n",
      "5 x 10 = 50\n"
     ]
    }
   ],
   "source": [
    "# tabla deseada\n",
    "tabla_de_multiplicar = int(input(\"dime la tabla que desearias saber\"))\n",
    "\n",
    "# mostramos la tabla del 1 al 10\n",
    "print(f\"tabla del {tabla_de_multiplicar}\")    # se usa los {} paara poner el valor de la variable  dentro de un string\n",
    "for i in range(0, 11):\n",
    "    resultado = tabla_de_multiplicar * i\n",
    "\n",
    "    # imptimit la tabla\n",
    "    print(f\"{tabla_de_multiplicar} x {i} = {resultado}\")\n"
   ]
  },
  {
   "cell_type": "markdown",
   "id": "16e0a9d8",
   "metadata": {},
   "source": [
    "Dia 3 - Contar Vocales\n",
    "Escribe un programa que cuente el número de vocales en una cadena\n",
    "dada.\n"
   ]
  },
  {
   "cell_type": "code",
   "execution_count": 45,
   "id": "f778ab16",
   "metadata": {},
   "outputs": [
    {
     "name": "stdout",
     "output_type": "stream",
     "text": [
      "la cantidad de vocales que tiene la frace 'hola soy alex' son  5\n"
     ]
    }
   ],
   "source": [
    "# Pedimos al usuario una cadena\n",
    "palabra = input(\"escribe alguna palabra\")\n",
    "\n",
    "# paso todo a miniscula antes\n",
    "palabra = palabra.lower()\n",
    "\n",
    "# Definimos las vocales\n",
    "vocales = \"aeiou\"\n",
    "\n",
    "# Contador\n",
    "contador = 0\n",
    "\n",
    "# recorremos cada letra y contamos la cantidad de vocales\n",
    "for letra in palabra:\n",
    "    if letra in vocales:\n",
    "        contador += 1\n",
    "\n",
    "# imprimimos el resultado\n",
    "print(f\"la cantidad de vocales que tiene la frace '{palabra}' son  {contador}\")\n"
   ]
  },
  {
   "cell_type": "markdown",
   "id": "85593e1d",
   "metadata": {},
   "source": [
    "Dia 4 - Ordenar Lista\n",
    "Escribe un programa que ordene una lista de números dada por el usuario\n",
    "en orden ascendente.\n"
   ]
  },
  {
   "cell_type": "code",
   "execution_count": 46,
   "id": "c5883b9b",
   "metadata": {},
   "outputs": [
    {
     "name": "stdout",
     "output_type": "stream",
     "text": [
      "aqui tienes ordenados [2, 6, 8, 33, 52, 77, 91]\n"
     ]
    }
   ],
   "source": [
    "numero = input(\"dame numeros separados\")\n",
    "\n",
    "# combertimos a numeros enteros \n",
    "numeros = list(map(int, numero.split()))\n",
    "\n",
    "# ordena la lista de menor a mayor\n",
    "numeros.sort()\n",
    "\n",
    "# mostramos la lista ordenada\n",
    "print(\"aqui tienes ordenados\", numeros)\n"
   ]
  },
  {
   "cell_type": "markdown",
   "id": "7423bed4",
   "metadata": {},
   "source": [
    "Dia 5 - Crear un Diccionario\n",
    "Escribe un programa que cree un diccionario a partir de dos listas dadas:\n",
    "una de claves y otra de valores.\n"
   ]
  },
  {
   "cell_type": "code",
   "execution_count": 47,
   "id": "9591cfab",
   "metadata": {},
   "outputs": [
    {
     "name": "stdout",
     "output_type": "stream",
     "text": [
      "{'nombre': 'Alex', 'edad': 18, 'ciudad': 'capiata'}\n"
     ]
    }
   ],
   "source": [
    "clave = ['nombre', 'edad', 'ciudad']\n",
    "valor = ['Alex', 18, 'capiata']\n",
    "\n",
    "# se crea un diccionario donde cada clave de la lista se se familiarice con el valor\n",
    "diccionario = dict(zip(clave, valor)) #dict comvierta las listas en tuplas y zin junta las listas\n",
    "\n",
    "# imprimo el diccionario\n",
    "print(diccionario)\n"
   ]
  },
  {
   "cell_type": "markdown",
   "id": "928dcfa1",
   "metadata": {},
   "source": [
    "Dia 6 - Conversión de Temperatura\n",
    "Escribe un programa que convierta una temperatura dada en grados\n",
    "Celsius a grados Fahrenheit."
   ]
  },
  {
   "cell_type": "code",
   "execution_count": 49,
   "id": "a0f34398",
   "metadata": {},
   "outputs": [
    {
     "name": "stdout",
     "output_type": "stream",
     "text": [
      "37.0 grados celsius serian 98.6 grados fahrenheit\n"
     ]
    }
   ],
   "source": [
    "# pedimos la temperatura deseada a cambiar\n",
    "celsius = float(input(\"ingresa la temperatura en grados celsius: \"))\n",
    "\n",
    "# convertimos con la formula\n",
    "fahrenheit = (celsius * 9/5) + 32\n",
    "\n",
    "# imprimo el resultado\n",
    "print(f\"{celsius} grados celsius serian {fahrenheit} grados fahrenheit\")\n"
   ]
  },
  {
   "cell_type": "markdown",
   "id": "adffc3d3",
   "metadata": {},
   "source": [
    "Dia 7 - Juego de Piedra, Papel o Tijeras\n",
    "Escribe un programa que permita al usuario jugar piedra, papel o tijeras\n",
    "contra la computadora.\n"
   ]
  },
  {
   "cell_type": "code",
   "execution_count": 52,
   "id": "834f882e",
   "metadata": {},
   "outputs": [
    {
     "name": "stdout",
     "output_type": "stream",
     "text": [
      "bienvenido a piedra papel o tijeras 🪨📄✂️\n",
      "elegiste tijeras\n",
      "tu rivar eligio piedra\n",
      "Perdiste 😂 tu rivar te gano\n"
     ]
    }
   ],
   "source": [
    "import random  # para que la compu elija aleatoriamente\n",
    "\n",
    "# opciones \n",
    "opciones = [\"piedra\", \"papel\", \"tijeras\"]\n",
    "\n",
    "# bienvemida\n",
    "print(\"bienvenido a piedra papel o tijeras 🪨📄✂️\")\n",
    "\n",
    "# jugada del jugador\n",
    "jugador = input(\"tu jugada cera\").lower()\n",
    "\n",
    "print(\"elegiste\", jugador)\n",
    "\n",
    "# verificar que la jugada sea valida\n",
    "if jugador not in opciones:\n",
    "    print(\"nop solo puedes jugar con piedra papel o tijera bro\")\n",
    "else:\n",
    "    # desicion  de jugada de la computadora\n",
    "    computadora = random.choice(opciones)\n",
    "\n",
    "    print(\"tu rivar eligio\", computadora)\n",
    "\n",
    "    # ver quin estaria ganando\n",
    "    if jugador == computadora:\n",
    "        print(\"empate\")\n",
    "    elif (jugador == \"piedra\" and computadora == \"tijeras\") or \\\n",
    "         (jugador == \"papel\" and computadora == \"piedra\") or \\\n",
    "         (jugador == \"tijeras\" and computadora == \"papel\"):\n",
    "        print(\"ganaste😎\")\n",
    "    else:\n",
    "        print(\"Perdiste 😂 tu rivar te gano\")\n"
   ]
  },
  {
   "cell_type": "markdown",
   "id": "0a150755",
   "metadata": {},
   "source": [
    "Dia 8 - Generador de Contraseñas Seguras\n",
    "Escribe un programa que genere una contraseña segura de longitud\n",
    "variable (entre 8 y 16 caracteres) que incluya letras mayúsculas,\n",
    "minúsculas, números y símbolos."
   ]
  },
  {
   "cell_type": "code",
   "execution_count": 53,
   "id": "5af8c0a1",
   "metadata": {},
   "outputs": [
    {
     "name": "stdout",
     "output_type": "stream",
     "text": [
      "🔐 tu contraseña segura seria EP_TP3]u:%qnjBm\n"
     ]
    }
   ],
   "source": [
    "import random\n",
    "\n",
    "# tipo de valor que puede llevar la contraseña\n",
    "mayusculas = \"ABCDEFGHIJKLMNOPQRSTUVWXYZ\"\n",
    "minusculas = \"abcdefghijklmnopqrstuvwxyz\"\n",
    "numeros = \"0123456789\"\n",
    "simbolos = \"!@#$%^&*()_+-=[]{};:,.<>?\"\n",
    "\n",
    "# se procede a juntarlos\n",
    "todos = mayusculas + minusculas + numeros + simbolos\n",
    "\n",
    "# elegimos aleatoriamente la cantidad de caracters enrtre 8 y 16\n",
    "longitud = random.randint(8, 16)\n",
    "\n",
    "# crea la contraseña con los valores aleatorios\n",
    "contraseña = \"\"\n",
    "for i in range(longitud):\n",
    "    contraseña += random.choice(todos)\n",
    "\n",
    "# Mostramos la contraseña generada\n",
    "print(\"🔐 tu contraseña segura seria\", contraseña)\n"
   ]
  }
 ],
 "metadata": {
  "kernelspec": {
   "display_name": "Python 3",
   "language": "python",
   "name": "python3"
  },
  "language_info": {
   "codemirror_mode": {
    "name": "ipython",
    "version": 3
   },
   "file_extension": ".py",
   "mimetype": "text/x-python",
   "name": "python",
   "nbconvert_exporter": "python",
   "pygments_lexer": "ipython3",
   "version": "3.13.3"
  }
 },
 "nbformat": 4,
 "nbformat_minor": 5
}
